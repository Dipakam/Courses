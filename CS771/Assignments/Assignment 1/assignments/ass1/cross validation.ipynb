{
 "cells": [
  {
   "cell_type": "code",
   "execution_count": 1,
   "metadata": {},
   "outputs": [],
   "source": [
    "import numpy as np\n",
    "from cs771 import genSyntheticData as gsd\n",
    "from cs771 import plotData as pd\n",
    "from matplotlib import pyplot as plt\n",
    "import time as tm\n",
    "import numpy as np\n",
    "import random\n",
    "import pandas\n",
    "Z = np.loadtxt( \"data\" )\n",
    "\n"
   ]
  },
  {
   "cell_type": "code",
   "execution_count": 14,
   "metadata": {},
   "outputs": [],
   "source": [
    "\n"
   ]
  },
  {
   "cell_type": "code",
   "execution_count": 93,
   "metadata": {},
   "outputs": [],
   "source": [
    "def randsplit(ratio,Z):\n",
    "    np.random.shuffle(Z)\n",
    "    y = Z[:,0]\n",
    "    X = Z[:,1:]\n",
    "    X_train = X[:int(ratio*(X.shape[0])),:]\n",
    "    y_train = y[:int(ratio*(X.shape[0]))]\n",
    "    X_validate = X[int(ratio*(X.shape[0])):,:]\n",
    "    y_validate = y[int(ratio*(X.shape[0])):]\n",
    "    return X_train,X_validate,y_train,y_validate"
   ]
  },
  {
   "cell_type": "code",
   "execution_count": 34,
   "metadata": {},
   "outputs": [],
   "source": [
    "X_train,X_validate,y_train,y_validate = randsplit(0.8)"
   ]
  },
  {
   "cell_type": "code",
   "execution_count": 89,
   "metadata": {},
   "outputs": [
    {
     "ename": "AttributeError",
     "evalue": "'numpy.ndarray' object has no attribute 'type'",
     "output_type": "error",
     "traceback": [
      "\u001b[0;31m---------------------------------------------------------------------------\u001b[0m",
      "\u001b[0;31mAttributeError\u001b[0m                            Traceback (most recent call last)",
      "\u001b[0;32m<ipython-input-89-197a1eb9c09e>\u001b[0m in \u001b[0;36m<module>\u001b[0;34m\u001b[0m\n\u001b[0;32m----> 1\u001b[0;31m \u001b[0mX_train\u001b[0m\u001b[0;34m.\u001b[0m\u001b[0mtype\u001b[0m\u001b[0;34m\u001b[0m\u001b[0;34m\u001b[0m\u001b[0m\n\u001b[0m",
      "\u001b[0;31mAttributeError\u001b[0m: 'numpy.ndarray' object has no attribute 'type'"
     ]
    }
   ],
   "source": [
    "X_train"
   ]
  },
  {
   "cell_type": "code",
   "execution_count": 99,
   "metadata": {},
   "outputs": [],
   "source": [
    "def StratifiedSplit(ratio):\n",
    "    np.random.shuffle(Z)\n",
    "    y = Z[:,0]\n",
    "    X = Z[:,1:]\n",
    "    Z_true = Z[y == 1]\n",
    "    Z_false = Z[y == -1]\n",
    "    X1_train,X1_validate,y1_train,y1_validate = randsplit(ratio,Z_true)\n",
    "    X2_train,X2_validate,y2_train,y2_validate = randsplit(ratio,Z_false)\n",
    "    X_train = np.concatenate((X1_train,X2_train))\n",
    "    y_train = np.concatenate((y1_train,y2_train))\n",
    "    X_validate = np.concatenate((X1_validate,X2_validate))\n",
    "    y_validate = np.concatenate((y1_validate,y2_validate))\n",
    "    return X_train,X_validate,y_train,y_validate"
   ]
  },
  {
   "cell_type": "code",
   "execution_count": 101,
   "metadata": {},
   "outputs": [],
   "source": [
    "X_train,X_validate,y_train,y_validate = StratifiedSplit(0.8)"
   ]
  },
  {
   "cell_type": "code",
   "execution_count": 102,
   "metadata": {},
   "outputs": [
    {
     "data": {
      "text/plain": [
       "(15999, 20)"
      ]
     },
     "execution_count": 102,
     "metadata": {},
     "output_type": "execute_result"
    }
   ],
   "source": [
    "X_train.shape"
   ]
  },
  {
   "cell_type": "code",
   "execution_count": null,
   "metadata": {},
   "outputs": [],
   "source": []
  }
 ],
 "metadata": {
  "kernelspec": {
   "display_name": "Python 3",
   "language": "python",
   "name": "python3"
  },
  "language_info": {
   "codemirror_mode": {
    "name": "ipython",
    "version": 3
   },
   "file_extension": ".py",
   "mimetype": "text/x-python",
   "name": "python",
   "nbconvert_exporter": "python",
   "pygments_lexer": "ipython3",
   "version": "3.7.3"
  }
 },
 "nbformat": 4,
 "nbformat_minor": 2
}
