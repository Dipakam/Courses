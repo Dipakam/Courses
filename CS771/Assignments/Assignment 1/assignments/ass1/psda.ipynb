{
 "cells": [
  {
   "cell_type": "markdown",
   "metadata": {},
   "source": [
    "# Projected Stochastic Gradient Ascent on D2\n",
    "\n"
   ]
  },
  {
   "cell_type": "code",
   "execution_count": 1,
   "metadata": {},
   "outputs": [],
   "source": [
    "import numpy as np\n",
    "from cs771 import genSyntheticData as gsd\n",
    "from cs771 import plotData as pd\n",
    "from matplotlib import pyplot as plt\n",
    "import time as tm\n",
    "import numpy as np\n",
    "import random\n",
    "Z = np.loadtxt( \"data\" )\n",
    "\n",
    "\n",
    "\n",
    "def randsplit(ratio,Z):\n",
    "    np.random.shuffle(Z)\n",
    "    y = Z[:,0]\n",
    "    X = Z[:,1:]\n",
    "    X_train = X[:int(ratio*(X.shape[0])),:]\n",
    "    y_train = y[:int(ratio*(X.shape[0]))]\n",
    "    X_validate = X[int(ratio*(X.shape[0])):,:]\n",
    "    y_validate = y[int(ratio*(X.shape[0])):]\n",
    "    return X_train,X_validate,y_train,y_validate\n",
    "  \n",
    "def StratifiedSplit(ratio, Z):\n",
    "    np.random.shuffle(Z)\n",
    "    y = Z[:,0]\n",
    "    X = Z[:,1:]\n",
    "    Z_true = Z[y == 1]\n",
    "    Z_false = Z[y == -1]\n",
    "    X1_train,X1_validate,y1_train,y1_validate = randsplit(ratio,Z_true)\n",
    "    X2_train,X2_validate,y2_train,y2_validate = randsplit(ratio,Z_false)\n",
    "    X_train = np.concatenate((X1_train,X2_train))\n",
    "    y_train = np.concatenate((y1_train,y2_train))\n",
    "    X_validate = np.concatenate((X1_validate,X2_validate))\n",
    "    y_validate = np.concatenate((y1_validate,y2_validate))\n",
    "    return X_train,X_validate,y_train,y_validate\n"
   ]
  },
  {
   "cell_type": "code",
   "execution_count": 2,
   "metadata": {},
   "outputs": [],
   "source": [
    "alpha = np.zeros(Z.shape[0])\n",
    "w = np.zeros(Z.shape[1])\n",
    "eta = 3\n",
    "C = 1\n",
    "(X,_,y,_) = randsplit(1,Z)\n",
    "(n,) = y.shape\n",
    "X = np.hstack((X, np.ones((n, 1))))\n",
    "  \n",
    " "
   ]
  },
  {
   "cell_type": "code",
   "execution_count": 4,
   "metadata": {},
   "outputs": [
    {
     "name": "stdout",
     "output_type": "stream",
     "text": [
      "[1.44395000e-04 2.47903000e-04 3.33846000e-04 ... 3.79443902e+00\n",
      " 3.79451282e+00 3.79458416e+00]\n"
     ]
    },
    {
     "data": {
      "image/png": "[encoded data removed]",
      "text/plain": [
       "<Figure size 432x288 with 1 Axes>"
      ]
     },
     "metadata": {
      "needs_background": "light"
     },
     "output_type": "display_data"
    },
    {
     "name": "stdout",
     "output_type": "stream",
     "text": [
      "5914.256348114697\n",
      "7423.628840201978\n"
     ]
    }
   ],
   "source": [
    "def getCyclicCoord( currentCoord ):\n",
    "    if currentCoord >= n-1 or currentCoord < 0:\n",
    "        return 0\n",
    "    else:\n",
    "        return currentCoord + 1\n",
    "\n",
    "def getRandCoord( currentCoord ):\n",
    "    return random.randint( 0, n-1 )\n",
    "\n",
    "def getRandpermCoord( currentCoord ):\n",
    "    global randperm, randpermInner\n",
    "    if randpermInner >= n-1 or randpermInner < 0 or currentCoord < 0:\n",
    "        randpermInner = 0\n",
    "        randperm = np.random.permutation( y.size )\n",
    "        return randperm[randpermInner]\n",
    "    else:\n",
    "        randpermInner = randpermInner + 1\n",
    "        return randperm[randpermInner]\n",
    "\n",
    "def getStepLength( grad, t ):\n",
    "     return eta/np.sqrt(t+2)\n",
    "\n",
    "# def getStepLength(grad, t ,power = 2):\n",
    "#     return eta/pow(t+2,power)\n",
    "def hingelossSq(theta):\n",
    "    w = theta\n",
    "#     b = theta[-1]\n",
    "    \n",
    "#     print(\"Nai\")\n",
    "    hingesq = np.square(np.maximum(1-np.multiply((X.dot(w)), y), 0))\n",
    "    return np.sum(hingesq)\n",
    "\n",
    "def ObjVal( theta ):\n",
    "    w = theta[0:-1]\n",
    "    b = theta[-1]\n",
    "    Loss = hingelossSq(theta)\n",
    "    return 0.5 * w.dot( w ) + C * Loss\n",
    "\n",
    "def i_grad(alpha, i, w, X, y, C):\n",
    "    return 1 - alpha[i]/(2*C) - 0.5*(y[i]**2)*alpha[i]*(np.linalg.norm(X[i])) - 0.5*(y[i]*(np.dot(w, X[i])))\n",
    "\n",
    "def getCSVMObjValDual( alpha, w, C):\n",
    "    # Recall that b is supposed to be treated as the last coordinate of w\n",
    "    return np.sum(alpha) - np.sum(0.25 * np.square(alpha) /C ) - 0.5 * np.square(np.linalg.norm(w))\n",
    "    \n",
    "\n",
    "def Projected_Coordinate_Ascent( gradFunc, CoordFunc, stepFunc, init, w, horizon = 10):\n",
    "    objValSeries = np.zeros( (horizon,) )\n",
    "    timeSeries = np.zeros( (horizon,) )\n",
    "    totTime = 0\n",
    "    cumulative = init\n",
    "    w=init\n",
    "    i=-1\n",
    "    for t in range( horizon ):\n",
    "        tic = tm.perf_counter()\n",
    "        i = CoordFunc( i )\n",
    "        delta = i_grad(alpha, i, w, X, y, C)\n",
    "        temp = alpha[i]*y[i]*X[i]\n",
    "        alpha[i] = alpha[i] + stepFunc( delta, t+1 ) * delta\n",
    "        if(alpha[i] < 0):\n",
    "            alpha[i] = 0\n",
    "        w = w - temp + alpha[i]*y[i]*X[i]\n",
    "        toc = tm.perf_counter()\n",
    "        totTime = totTime + (toc - tic)\n",
    "        objValSeries[t] = ObjVal(w)\n",
    "        timeSeries[t] = totTime\n",
    "#         print(t)\n",
    "    print(timeSeries)\n",
    "    return (w, objValSeries, timeSeries)\n",
    "  \n",
    "def SGDP1():\n",
    "  d=20\n",
    "  (theta_SGD, obj_SGD, time_SGD) = Projected_Coordinate_Ascent( i_grad, getRandCoord, getStepLength, np.random.random_sample( (d+1,) ), w, horizon = 50000)\n",
    "  plt.figure()\n",
    "  plt.plot( time_SGD, obj_SGD, color = 'r', linestyle = '-', label = \"SGD\" )\n",
    "  plt.xlabel( \"Elapsed time (sec)\" )\n",
    "  plt.ylabel( \"P1 Objective value\" )\n",
    "  plt.legend()\n",
    "  plt.show()\n",
    "  print(min(obj_SGD))\n",
    "  print(ObjVal(theta_SGD))\n",
    "#   print(theta_SGD)\n",
    "  \n",
    "SGDP1()\n",
    "    "
   ]
  },
  {
   "cell_type": "code",
   "execution_count": null,
   "metadata": {},
   "outputs": [],
   "source": []
  },
  {
   "cell_type": "code",
   "execution_count": null,
   "metadata": {},
   "outputs": [],
   "source": []
  }
 ],
 "metadata": {
  "kernelspec": {
   "display_name": "Python 3",
   "language": "python",
   "name": "python3"
  },
  "language_info": {
   "codemirror_mode": {
    "name": "ipython",
    "version": 3
   },
   "file_extension": ".py",
   "mimetype": "text/x-python",
   "name": "python",
   "nbconvert_exporter": "python",
   "pygments_lexer": "ipython3",
   "version": "3.7.3"
  }
 },
 "nbformat": 4,
 "nbformat_minor": 2
}
